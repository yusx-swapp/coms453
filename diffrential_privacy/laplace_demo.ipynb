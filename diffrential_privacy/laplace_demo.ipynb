{
 "cells": [
  {
   "cell_type": "code",
   "execution_count": 1,
   "metadata": {},
   "outputs": [
    {
     "name": "stdout",
     "output_type": "stream",
     "text": [
      "Original query result: 42.782256214149136\n",
      "Private query result (epsilon=1): 42.4408032616234\n",
      "Private query result (epsilon=0.5): 41.48965812041655\n"
     ]
    }
   ],
   "source": [
    "from src.sampler import sampler"
   ]
  },
  {
   "attachments": {},
   "cell_type": "markdown",
   "metadata": {},
   "source": [
    "# Demo for Laplace Mechanism in DP"
   ]
  },
  {
   "attachments": {},
   "cell_type": "markdown",
   "metadata": {},
   "source": [
    "First define your target sample function, imaging you can access all the data.\n",
    "\n",
    "The function you define returns the true results you want\n",
    "\n",
    "Here is the example for query the average age of the records with age greater than 25."
   ]
  },
  {
   "cell_type": "code",
   "execution_count": 2,
   "metadata": {},
   "outputs": [],
   "source": [
    "def sample_fn(data):\n",
    "    \"\"\"\n",
    "    return the average age with age greater than 25 \n",
    "    Args:\n",
    "        data (_type_): _description_\n",
    "\n",
    "    Returns:\n",
    "        _type_: _description_\n",
    "    \"\"\"\n",
    "    result = data[data['age'] > 25]['age'].mean()\n",
    "    return result"
   ]
  },
  {
   "attachments": {},
   "cell_type": "markdown",
   "metadata": {},
   "source": [
    "Then, initialize your sampler.\n",
    "\n",
    "You need give the sample_fn to create the sampler object, and the sampler object will excute the sample_fn on the private data, and return you a noised results"
   ]
  },
  {
   "cell_type": "code",
   "execution_count": 3,
   "metadata": {},
   "outputs": [],
   "source": [
    "data_sampler = sampler(sample_fn=sample_fn)"
   ]
  },
  {
   "attachments": {},
   "cell_type": "markdown",
   "metadata": {},
   "source": [
    "Now define your differencial pravacy parameters:"
   ]
  },
  {
   "cell_type": "markdown",
   "metadata": {},
   "source": []
  },
  {
   "cell_type": "code",
   "execution_count": 4,
   "metadata": {},
   "outputs": [],
   "source": [
    "noise_type = 'laplace'\n",
    "dp_param={\n",
    "    'epsilon': 0.5,\n",
    "    'sensitivity': 1,\n",
    "}"
   ]
  },
  {
   "attachments": {},
   "cell_type": "markdown",
   "metadata": {},
   "source": [
    "Now sample it"
   ]
  },
  {
   "cell_type": "code",
   "execution_count": 5,
   "metadata": {},
   "outputs": [
    {
     "data": {
      "text/plain": [
       "46.20357952624348"
      ]
     },
     "execution_count": 5,
     "metadata": {},
     "output_type": "execute_result"
    }
   ],
   "source": [
    "data_sampler.sample(noise_type=noise_type,**dp_param)"
   ]
  },
  {
   "attachments": {},
   "cell_type": "markdown",
   "metadata": {},
   "source": [
    "If you want to generate 1000 results, change the `dp_param`, add `size =1000`"
   ]
  },
  {
   "cell_type": "code",
   "execution_count": 9,
   "metadata": {},
   "outputs": [],
   "source": [
    "noise_type = 'laplace'\n",
    "dp_param={\n",
    "    'epsilon': 0.5,\n",
    "    'sensitivity': 1,\n",
    "    'size':1000\n",
    "}"
   ]
  },
  {
   "cell_type": "code",
   "execution_count": 12,
   "metadata": {},
   "outputs": [
    {
     "data": {
      "text/plain": [
       "1000"
      ]
     },
     "execution_count": 12,
     "metadata": {},
     "output_type": "execute_result"
    }
   ],
   "source": [
    "res = data_sampler.sample(noise_type=noise_type,**dp_param)\n",
    "res.size"
   ]
  },
  {
   "attachments": {},
   "cell_type": "markdown",
   "metadata": {},
   "source": [
    "If you want to further (removing a record with the oldest age;emoving any record with age 26; removing any record with the youngest age)\n",
    "\n",
    "Just change the `sample_fn`, and initialize a new `sampler`.\n",
    "\n",
    "If you want to go `Exponential Mechanism`, currently I didnt implemented it yet, mimic the `src.noiser.laplace.py`, and write your Exponential Mechanism on the `src.noiser.exponential.py`\n"
   ]
  },
  {
   "cell_type": "markdown",
   "metadata": {},
   "source": []
  }
 ],
 "metadata": {
  "kernelspec": {
   "display_name": "draw",
   "language": "python",
   "name": "python3"
  },
  "language_info": {
   "codemirror_mode": {
    "name": "ipython",
    "version": 3
   },
   "file_extension": ".py",
   "mimetype": "text/x-python",
   "name": "python",
   "nbconvert_exporter": "python",
   "pygments_lexer": "ipython3",
   "version": "3.10.8"
  },
  "orig_nbformat": 4,
  "vscode": {
   "interpreter": {
    "hash": "f9b83f6ae382032e6d0341d78aea939c76ab6834ab14c83f076ec544231934c5"
   }
  }
 },
 "nbformat": 4,
 "nbformat_minor": 2
}
